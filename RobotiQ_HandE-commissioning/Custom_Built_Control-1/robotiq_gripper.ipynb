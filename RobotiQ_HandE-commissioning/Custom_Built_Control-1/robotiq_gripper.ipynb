{
 "cells": [
  {
   "cell_type": "code",
   "execution_count": 63,
   "id": "1e64f37e-9b00-41a5-bdba-e0ba31239c3f",
   "metadata": {},
   "outputs": [],
   "source": [
    "import gripper_robotiq as grip\n",
    "import time"
   ]
  },
  {
   "cell_type": "code",
   "execution_count": 50,
   "id": "7fe965da-7f91-4097-b063-5d6fccccc3db",
   "metadata": {},
   "outputs": [],
   "source": [
    "grip.Activate()"
   ]
  },
  {
   "cell_type": "code",
   "execution_count": 64,
   "id": "98f19b05-243a-4ff6-8138-c9180ab46789",
   "metadata": {},
   "outputs": [],
   "source": [
    "grip.Close()"
   ]
  },
  {
   "cell_type": "code",
   "execution_count": 66,
   "id": "227c7997-d7db-464e-bcc5-7a3f53946d59",
   "metadata": {},
   "outputs": [],
   "source": [
    "grip.Open()"
   ]
  },
  {
   "cell_type": "code",
   "execution_count": 8,
   "id": "3f25a17c-bf83-43ce-aa84-24602de28fdc",
   "metadata": {},
   "outputs": [
    {
     "name": "stdout",
     "output_type": "stream",
     "text": [
      "0\n",
      "1\n",
      "2\n",
      "3\n",
      "4\n"
     ]
    }
   ],
   "source": [
    "for i in range(5):\n",
    "    grip.Close()\n",
    "    time.sleep(2)\n",
    "    grip.Open()\n",
    "    time.sleep(2)\n",
    "    print(i)"
   ]
  }
 ],
 "metadata": {
  "kernelspec": {
   "display_name": "Python 3 (ipykernel)",
   "language": "python",
   "name": "python3"
  },
  "language_info": {
   "codemirror_mode": {
    "name": "ipython",
    "version": 3
   },
   "file_extension": ".py",
   "mimetype": "text/x-python",
   "name": "python",
   "nbconvert_exporter": "python",
   "pygments_lexer": "ipython3",
   "version": "3.9.13"
  }
 },
 "nbformat": 4,
 "nbformat_minor": 5
}
