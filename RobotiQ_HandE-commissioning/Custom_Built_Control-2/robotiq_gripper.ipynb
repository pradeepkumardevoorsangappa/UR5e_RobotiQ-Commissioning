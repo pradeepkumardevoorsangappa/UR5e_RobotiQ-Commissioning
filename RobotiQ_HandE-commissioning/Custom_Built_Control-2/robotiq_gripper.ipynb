{
 "cells": [
  {
   "cell_type": "code",
   "execution_count": 7,
   "id": "1e64f37e-9b00-41a5-bdba-e0ba31239c3f",
   "metadata": {},
   "outputs": [],
   "source": [
    "import robotiq as grip\n",
    "import time"
   ]
  },
  {
   "cell_type": "code",
   "execution_count": 4,
   "id": "7fe965da-7f91-4097-b063-5d6fccccc3db",
   "metadata": {},
   "outputs": [],
   "source": [
    "grip.Activate()"
   ]
  },
  {
   "cell_type": "code",
   "execution_count": 8,
   "id": "98f19b05-243a-4ff6-8138-c9180ab46789",
   "metadata": {},
   "outputs": [],
   "source": [
    "grip.Close()"
   ]
  },
  {
   "cell_type": "code",
   "execution_count": 11,
   "id": "227c7997-d7db-464e-bcc5-7a3f53946d59",
   "metadata": {},
   "outputs": [],
   "source": [
    "grip.Open()"
   ]
  },
  {
   "cell_type": "code",
   "execution_count": 5,
   "id": "f21e06d4-32e1-4d64-8175-c602fcf5f804",
   "metadata": {},
   "outputs": [],
   "source": [
    "grip.move(50) ## Close to 50%"
   ]
  },
  {
   "cell_type": "code",
   "execution_count": null,
   "id": "61ffaffd-18be-41c7-9d6b-76d86d227ba0",
   "metadata": {},
   "outputs": [],
   "source": [
    "grip.cw()"
   ]
  }
 ],
 "metadata": {
  "kernelspec": {
   "display_name": "Python 3 (ipykernel)",
   "language": "python",
   "name": "python3"
  },
  "language_info": {
   "codemirror_mode": {
    "name": "ipython",
    "version": 3
   },
   "file_extension": ".py",
   "mimetype": "text/x-python",
   "name": "python",
   "nbconvert_exporter": "python",
   "pygments_lexer": "ipython3",
   "version": "3.9.13"
  }
 },
 "nbformat": 4,
 "nbformat_minor": 5
}
